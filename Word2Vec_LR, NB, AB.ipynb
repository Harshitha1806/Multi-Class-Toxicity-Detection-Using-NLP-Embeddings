{
 "cells": [
  {
   "cell_type": "code",
   "execution_count": 1,
   "id": "3d216d49-0da4-4515-958e-a45e22d69457",
   "metadata": {},
   "outputs": [
    {
     "name": "stdout",
     "output_type": "stream",
     "text": [
      "HELLO\n"
     ]
    }
   ],
   "source": [
    "print(\"HELLO\")"
   ]
  },
  {
   "cell_type": "code",
   "execution_count": 2,
   "id": "f9b14dc3-0657-4072-b1c9-cb59b3ef308d",
   "metadata": {},
   "outputs": [],
   "source": [
    "import time\n",
    "# import necessary libraries\n",
    "import numpy as np # linear algebra\n",
    "import pandas as pd # data processing, CSV file I/O (e.g. pd.read_csv)\n"
   ]
  },
  {
   "cell_type": "code",
   "execution_count": 3,
   "id": "e67115f3-ee46-448e-93a4-71732bac9d61",
   "metadata": {},
   "outputs": [],
   "source": [
    "\n",
    "#text libraries\n",
    "import re\n",
    "import nltk\n",
    "from nltk.corpus import stopwords\n",
    "from gensim.models import word2vec"
   ]
  },
  {
   "cell_type": "code",
   "execution_count": 4,
   "id": "48afe85b-b023-4091-a297-568b4eb784dc",
   "metadata": {},
   "outputs": [],
   "source": [
    "\n",
    "# classifier imports\n",
    "from sklearn.neural_network import MLPClassifier"
   ]
  },
  {
   "cell_type": "code",
   "execution_count": 5,
   "id": "b1a1553f-6453-4811-88c1-0e351702b295",
   "metadata": {},
   "outputs": [
    {
     "name": "stdout",
     "output_type": "stream",
     "text": [
      "                 id                                       comment_text  toxic  \\\n",
      "0  0000997932d777bf  Explanation\\nWhy the edits made under my usern...      0   \n",
      "1  000103f0d9cfb60f  D'aww! He matches this background colour I'm s...      0   \n",
      "2  000113f07ec002fd  Hey man, I'm really not trying to edit war. It...      0   \n",
      "\n",
      "   severe_toxic  obscene  threat  insult  identity_hate  \n",
      "0             0        0       0       0              0  \n",
      "1             0        0       0       0              0  \n",
      "2             0        0       0       0              0  \n"
     ]
    }
   ],
   "source": [
    "train = pd.read_csv('train.csv')\n",
    "test = pd.read_csv('test.csv')\n",
    "# copy test id column for later submission\n",
    "result = test[['id']].copy() \n",
    "# show first 3 rows of the training set to get a first impression about the data\n",
    "print(train.head(3))"
   ]
  },
  {
   "cell_type": "code",
   "execution_count": 6,
   "id": "4d7ea533-a07d-4e55-bd12-5df803065c5c",
   "metadata": {},
   "outputs": [
    {
     "name": "stdout",
     "output_type": "stream",
     "text": [
      "toxic: 15294\n",
      "severe_toxic: 1595\n",
      "obscene: 8449\n",
      "threat: 478\n",
      "insult: 7877\n",
      "identity_hate: 1405\n"
     ]
    }
   ],
   "source": [
    "# count each severity \n",
    "print('toxic: %d' % train[train['toxic'] > 0]['toxic'].count())\n",
    "print('severe_toxic: %d' % train[train['severe_toxic'] > 0]['severe_toxic'].count())\n",
    "print('obscene: %d' % train[train['obscene'] > 0]['obscene'].count())\n",
    "print('threat: %d' % train[train['threat'] > 0]['threat'].count())\n",
    "print('insult: %d' % train[train['insult'] > 0]['insult'].count())\n",
    "print('identity_hate: %d' % train[train['identity_hate'] > 0]['identity_hate'].count())"
   ]
  },
  {
   "cell_type": "code",
   "execution_count": 7,
   "id": "f666dde2-1842-42f2-9804-973c87252821",
   "metadata": {},
   "outputs": [
    {
     "name": "stdout",
     "output_type": "stream",
     "text": [
      "Severe toxic but NOT toxic?: 0\n",
      "Insult but NOT toxic?: 533\n",
      "Obscene but NOT toxic?: 523\n",
      "Threat but NOT insult?: 171\n"
     ]
    }
   ],
   "source": [
    "print('Severe toxic but NOT toxic?: %d' % train[(train['severe_toxic'] > 0) & (train['toxic'] == 0)]['id'].count())\n",
    "print('Insult but NOT toxic?: %d' % train[(train['insult'] > 0) & (train['toxic'] == 0)]['id'].count())\n",
    "print('Obscene but NOT toxic?: %d' % train[(train['obscene'] > 0) & (train['toxic'] == 0)]['id'].count())\n",
    "print('Threat but NOT insult?: %d' % train[(train['threat'] > 0) & (train['insult'] == 0)]['id'].count())"
   ]
  },
  {
   "cell_type": "code",
   "execution_count": 8,
   "id": "14a1052e-55ac-4ae5-b36f-fa45201d9a03",
   "metadata": {},
   "outputs": [
    {
     "name": "stdout",
     "output_type": "stream",
     "text": [
      "Average comment length: 394\n",
      "Median comment length: 205\n",
      "90th percentile comment length: 889\n"
     ]
    }
   ],
   "source": [
    "train['len'] = train['comment_text'].str.len()\n",
    "print('Average comment length: %d' % train['len'].mean())\n",
    "print('Median comment length: %d' % train['len'].quantile(.5))\n",
    "print('90th percentile comment length: %d' % train['len'].quantile(.9))"
   ]
  },
  {
   "cell_type": "code",
   "execution_count": 9,
   "id": "c8402363-f8c9-44a8-b6e5-158bf70cd84e",
   "metadata": {},
   "outputs": [
    {
     "name": "stdout",
     "output_type": "stream",
     "text": [
      "Empty DataFrame\n",
      "Columns: [id, comment_text, toxic, severe_toxic, obscene, threat, insult, identity_hate, len]\n",
      "Index: []\n",
      "Empty DataFrame\n",
      "Columns: [id, comment_text]\n",
      "Index: []\n"
     ]
    }
   ],
   "source": [
    "print(train[train['comment_text'].isnull()])\n",
    "print(test[test['comment_text'].isnull()])"
   ]
  },
  {
   "cell_type": "code",
   "execution_count": 10,
   "id": "c8ff39c1-42c1-4c6e-b525-ab7e9d0997c4",
   "metadata": {},
   "outputs": [],
   "source": [
    "test['comment_text'].fillna(value='none', inplace=True) # there is one \n",
    "train['comment_text'].fillna(value='none', inplace=True)"
   ]
  },
  {
   "cell_type": "code",
   "execution_count": 11,
   "id": "923f74bf-6d11-4507-bd3d-91e27d89bdc1",
   "metadata": {},
   "outputs": [
    {
     "name": "stdout",
     "output_type": "stream",
     "text": [
      "0    [explanation, why, the, edits, made, under, my...\n",
      "1    [d, aww, he, matches, this, background, colour...\n",
      "2    [hey, man, i, m, really, not, trying, to, edit...\n",
      "Name: comment_text, dtype: object\n"
     ]
    }
   ],
   "source": [
    "def text_to_words(raw_text, remove_stopwords=False):\n",
    "    # 1. Remove non-letters, but including numbers\n",
    "    letters_only = re.sub(\"[^0-9a-zA-Z]\", \" \", raw_text)\n",
    "    # 2. Convert to lower case, split into individual words\n",
    "    words = letters_only.lower().split()\n",
    "    if remove_stopwords:\n",
    "        stops = set(stopwords.words(\"english\")) # In Python, searching a set is much faster than searching\n",
    "        meaningful_words = [w for w in words if not w in stops] # Remove stop words\n",
    "        words = meaningful_words\n",
    "    return words \n",
    "\n",
    "sentences_train = train['comment_text'].apply(text_to_words, remove_stopwords=False)\n",
    "sentences_test = test['comment_text'].apply(text_to_words, remove_stopwords=False)\n",
    "# show first three arrays as sample\n",
    "print(sentences_train[:3])"
   ]
  },
  {
   "cell_type": "code",
   "execution_count": 12,
   "id": "ff349a77-beae-4b16-a2d8-903c756ed398",
   "metadata": {},
   "outputs": [],
   "source": [
    "from gensim.models import Word2Vec"
   ]
  },
  {
   "cell_type": "code",
   "execution_count": 14,
   "id": "5f2b6c83-8b77-4456-80db-3ebf241bd27c",
   "metadata": {},
   "outputs": [],
   "source": [
    "\n",
    "# Set values for various parameters\n",
    "num_features = 300    # Word vector dimensionality                      \n",
    "min_word_count = 40   # Minimum word count                        \n",
    "num_workers = 4       # Number of threads to run in parallel\n",
    "context = 10          # Context window size                                                                                    \n",
    "downsampling = 1e-3   # Downsample setting for frequent words"
   ]
  },
  {
   "cell_type": "code",
   "execution_count": 15,
   "id": "a8aacae1-dbef-4665-8428-e7ecf260202e",
   "metadata": {},
   "outputs": [],
   "source": [
    "from gensim.models import Word2Vec\n",
    "from gensim.models import KeyedVectors\n",
    "model = Word2Vec(sentences=sentences_train, vector_size=num_features, window=context, min_count=min_word_count, sample=downsampling, workers=num_workers)\n",
    "# Assuming 'model' is your trained Word2Vec model\n",
    "# Save the model's word vectors and discard the full model to save memory\n",
    "word_vectors = model.wv\n",
    "word_vectors.save(\"word_vectors.kv\")\n",
    "\n",
    "# Optionally, you can later load these vectors without the full model:\n",
    "word_vectors = KeyedVectors.load(\"word_vectors.kv\", mmap='r')\n",
    "\n",
    "# Now you can use `word_vectors` for querying, which is memory efficient"
   ]
  },
  {
   "cell_type": "code",
   "execution_count": 16,
   "id": "3efbc0a3-d924-4d24-8e8c-6b90ace0bf58",
   "metadata": {},
   "outputs": [],
   "source": [
    "def makeFeatureVec(words, model, num_features):\n",
    "    # Pre-initialize an empty numpy array (for speed)\n",
    "    featureVec = np.zeros((num_features,), dtype=\"float32\")\n",
    "    nwords = 0\n",
    "    # Index2word is a list that contains the names of the words in \n",
    "    # the model's vocabulary. Convert it to a set, for speed\n",
    "    index2word_set = set(model.index_to_key)  # Updated to use index_to_key\n",
    "    # Loop over each word in the review and, if it is in the model's\n",
    "    # vocabulary, add its feature vector to the total\n",
    "    for word in words:\n",
    "        if word in index2word_set:\n",
    "            nwords += 1\n",
    "            featureVec = np.add(featureVec, model[word])  # Updated to use model.wv[word]\n",
    "    # Divide the result by the number of words to get the average\n",
    "    if nwords == 0:\n",
    "        nwords = 1  # Avoid division by zero\n",
    "    featureVec = np.divide(featureVec, nwords)\n",
    "    return featureVec\n",
    "\n",
    "def getAvgFeatureVecs(reviews, model, num_features):\n",
    "    # Given a set of reviews (each one a list of words), calculate \n",
    "    # the average feature vector for each one and return a 2D numpy array \n",
    "    # Preallocate a 2D numpy array, for speed\n",
    "    reviewFeatureVecs = np.zeros((len(reviews), num_features), dtype=\"float32\")\n",
    "    counter = 0\n",
    "    # Loop through the reviews\n",
    "    for review in reviews:\n",
    "        # Call the function (defined above) that makes average feature vectors\n",
    "        reviewFeatureVecs[counter] = makeFeatureVec(review, model, num_features)\n",
    "        counter += 1\n",
    "    return reviewFeatureVecs\n"
   ]
  },
  {
   "cell_type": "code",
   "execution_count": 17,
   "id": "bd72bc90-489e-444b-b601-ce3287dc1472",
   "metadata": {},
   "outputs": [],
   "source": [
    "from gensim.models import KeyedVectors\n",
    "# Assuming word_vectors.kv is already loaded\n",
    "word_vectors = KeyedVectors.load(\"word_vectors.kv\", mmap='r')\n",
    "\n",
    "f_matrix_train = getAvgFeatureVecs(sentences_train, word_vectors, num_features)\n",
    "f_matrix_test = getAvgFeatureVecs(sentences_test, word_vectors, num_features)\n",
    "# we have to train 6 different models with 6 different Y labels\n",
    "y = [train['toxic'], train['severe_toxic'], train['obscene'], train['threat'], train['insult'], train['identity_hate']]"
   ]
  },
  {
   "cell_type": "code",
   "execution_count": 18,
   "id": "14a8e608-641d-43a7-8161-fb211c43c38d",
   "metadata": {},
   "outputs": [
    {
     "name": "stdout",
     "output_type": "stream",
     "text": [
      "[MLPClassifier(hidden_layer_sizes=(30, 30, 30), random_state=1), MLPClassifier(hidden_layer_sizes=(30, 30, 30), random_state=1), MLPClassifier(hidden_layer_sizes=(30, 30, 30), random_state=1), MLPClassifier(hidden_layer_sizes=(30, 30, 30), random_state=1), MLPClassifier(hidden_layer_sizes=(30, 30, 30), random_state=1), MLPClassifier(hidden_layer_sizes=(30, 30, 30), random_state=1)]\n"
     ]
    }
   ],
   "source": [
    "# create 6 MLP models\n",
    "model = []\n",
    "for i in range(0, 6):\n",
    "    m = MLPClassifier(solver='adam', hidden_layer_sizes=(30,30,30), random_state=1)\n",
    "    model.append(m)\n",
    "print(model)\n"
   ]
  },
  {
   "cell_type": "code",
   "execution_count": 19,
   "id": "10698f12-ac82-429d-99cb-2aa9f26e41bf",
   "metadata": {},
   "outputs": [
    {
     "name": "stdout",
     "output_type": "stream",
     "text": [
      "Pos 10000/159571 duration 0\n",
      "Pos 20000/159571 duration 1\n",
      "Pos 30000/159571 duration 2\n",
      "Pos 40000/159571 duration 2\n",
      "Pos 50000/159571 duration 3\n",
      "Pos 60000/159571 duration 3\n",
      "Pos 70000/159571 duration 4\n",
      "Pos 80000/159571 duration 5\n",
      "Pos 90000/159571 duration 5\n",
      "Pos 100000/159571 duration 6\n",
      "Pos 110000/159571 duration 7\n",
      "Pos 120000/159571 duration 7\n",
      "Pos 130000/159571 duration 8\n",
      "Pos 140000/159571 duration 9\n",
      "Pos 150000/159571 duration 9\n",
      "Pos 159571/159571 duration 10\n"
     ]
    }
   ],
   "source": [
    "batch_size = 10000\n",
    "total_rows = f_matrix_train.shape[0]\n",
    "duration = 0\n",
    "start_train = time.time()\n",
    "pos = 0\n",
    "classes = [0,1]\n",
    "# we use a partial fit approach\n",
    "while duration < 2500 and pos < total_rows:\n",
    "    for i in range(0, 6):\n",
    "        if pos+batch_size > total_rows:\n",
    "            batch_size = total_rows-pos\n",
    "        X_p = f_matrix_train[pos:pos+batch_size]\n",
    "        y_p = y[i][pos:pos+batch_size]\n",
    "        model[i].partial_fit(X_p, y_p, classes)\n",
    "    pos = pos + batch_size\n",
    "    duration = time.time() - start_train # how long did we train so far?\n",
    "    print(\"Pos %d/%d duration %d\" % (pos, total_rows, duration))\n",
    "    # end test partial fit  \n"
   ]
  },
  {
   "cell_type": "code",
   "execution_count": 20,
   "id": "7e313222-7abe-446b-a171-7c358e47c042",
   "metadata": {},
   "outputs": [],
   "source": [
    "result['toxic'] = model[0].predict_proba(f_matrix_test)[:,1]\n",
    "result['severe_toxic'] = model[1].predict_proba(f_matrix_test)[:,1]\n",
    "result['obscene'] = model[2].predict_proba(f_matrix_test)[:,1]\n",
    "result['threat'] = model[3].predict_proba(f_matrix_test)[:,1]\n",
    "result['insult'] = model[4].predict_proba(f_matrix_test)[:,1]\n",
    "result['identity_hate'] = model[5].predict_proba(f_matrix_test)[:,1]"
   ]
  },
  {
   "cell_type": "code",
   "execution_count": 21,
   "id": "09e50006-e38d-4df5-a133-1e0ca3985cde",
   "metadata": {},
   "outputs": [],
   "source": [
    "result.to_csv('submission.csv', encoding='utf-8', index=False)"
   ]
  },
  {
   "cell_type": "markdown",
   "id": "e603246b-ca9b-468d-a489-817fda09e6d8",
   "metadata": {},
   "source": [
    "# Logistic Regression"
   ]
  },
  {
   "cell_type": "code",
   "execution_count": 22,
   "id": "0784702b-f5ec-4693-92d9-db7e3e8324c3",
   "metadata": {},
   "outputs": [
    {
     "name": "stdout",
     "output_type": "stream",
     "text": [
      "Label = toxic\n",
      "              precision    recall  f1-score   support\n",
      "\n",
      "           0       0.95      0.99      0.97     28859\n",
      "           1       0.81      0.55      0.65      3056\n",
      "\n",
      "    accuracy                           0.94     31915\n",
      "   macro avg       0.88      0.77      0.81     31915\n",
      "weighted avg       0.94      0.94      0.94     31915\n",
      "\n",
      "AUC for toxic: 0.7665279702594435\n",
      "Label = severe_toxic\n",
      "              precision    recall  f1-score   support\n",
      "\n",
      "           0       0.99      1.00      0.99     31594\n",
      "           1       0.50      0.24      0.33       321\n",
      "\n",
      "    accuracy                           0.99     31915\n",
      "   macro avg       0.75      0.62      0.66     31915\n",
      "weighted avg       0.99      0.99      0.99     31915\n",
      "\n",
      "AUC for severe_toxic: 0.6202609155056651\n",
      "Label = obscene\n",
      "              precision    recall  f1-score   support\n",
      "\n",
      "           0       0.97      0.99      0.98     30200\n",
      "           1       0.84      0.53      0.65      1715\n",
      "\n",
      "    accuracy                           0.97     31915\n",
      "   macro avg       0.91      0.76      0.82     31915\n",
      "weighted avg       0.97      0.97      0.97     31915\n",
      "\n",
      "AUC for obscene: 0.7612591469889753\n",
      "Label = threat\n",
      "              precision    recall  f1-score   support\n",
      "\n",
      "           0       1.00      1.00      1.00     31841\n",
      "           1       0.38      0.15      0.21        74\n",
      "\n",
      "    accuracy                           1.00     31915\n",
      "   macro avg       0.69      0.57      0.61     31915\n",
      "weighted avg       1.00      1.00      1.00     31915\n",
      "\n",
      "AUC for threat: 0.5740416698850793\n",
      "Label = insult\n",
      "              precision    recall  f1-score   support\n",
      "\n",
      "           0       0.97      0.99      0.98     30301\n",
      "           1       0.75      0.43      0.54      1614\n",
      "\n",
      "    accuracy                           0.96     31915\n",
      "   macro avg       0.86      0.71      0.76     31915\n",
      "weighted avg       0.96      0.96      0.96     31915\n",
      "\n",
      "AUC for insult: 0.709583598792569\n",
      "Label = identity_hate\n",
      "              precision    recall  f1-score   support\n",
      "\n",
      "           0       0.99      1.00      1.00     31621\n",
      "           1       0.50      0.12      0.20       294\n",
      "\n",
      "    accuracy                           0.99     31915\n",
      "   macro avg       0.75      0.56      0.60     31915\n",
      "weighted avg       0.99      0.99      0.99     31915\n",
      "\n",
      "AUC for identity_hate: 0.560655247836461\n",
      "Label = non_toxic\n",
      "              precision    recall  f1-score   support\n",
      "\n",
      "           0       0.82      0.55      0.66      3244\n",
      "           1       0.95      0.99      0.97     28671\n",
      "\n",
      "    accuracy                           0.94     31915\n",
      "   macro avg       0.88      0.77      0.81     31915\n",
      "weighted avg       0.94      0.94      0.94     31915\n",
      "\n",
      "AUC for non_toxic: 0.7676154658352264\n",
      "Average AUC for Toxic: 0.6653880915446989\n",
      "Average AUC for Non-Toxic: 0.7676154658352264\n"
     ]
    }
   ],
   "source": [
    "import pandas as pd\n",
    "from sklearn.linear_model import LogisticRegression\n",
    "from sklearn.metrics import roc_auc_score, classification_report\n",
    "from sklearn.model_selection import train_test_split\n",
    "\n",
    "# Assume 'train' is your DataFrame\n",
    "# If you're balancing or preprocessing, ensure this step is completed\n",
    "\n",
    "# If 'train_balanced' was supposed to be a balanced dataset, define it:\n",
    "train_balanced = train  # Or apply balancing techniques here\n",
    "\n",
    "# Define target columns\n",
    "target_columns = ['toxic', 'severe_toxic', 'obscene', 'threat', 'insult', 'identity_hate']\n",
    "train_balanced['non_toxic'] = 1 - train_balanced[target_columns].max(axis=1)\n",
    "\n",
    "# Assuming you have features and labels properly set up in train_balanced\n",
    "x_train = f_matrix_train  # Assuming this is your feature matrix from Word2Vec\n",
    "\n",
    "# Split the dataset into training and validation sets\n",
    "x_train, x_val, y_train, y_val = train_test_split(x_train, train_balanced[target_columns + ['non_toxic']], test_size=0.2, random_state=42)\n",
    "\n",
    "# Initialize and train logistic regression model\n",
    "models = {}\n",
    "average_auc_toxic = 0\n",
    "average_auc_non_toxic = 0\n",
    "\n",
    "# Train a model for each label\n",
    "for label in target_columns + ['non_toxic']:\n",
    "    models[label] = LogisticRegression(solver='liblinear')\n",
    "    models[label].fit(x_train, y_train[label])\n",
    "\n",
    "    # Make predictions\n",
    "    predictions = models[label].predict(x_val)\n",
    "\n",
    "    # Display the classification report\n",
    "    print(f'Label = {label}')\n",
    "    print(classification_report(y_val[label], predictions))\n",
    "\n",
    "    # Calculate AUC\n",
    "    roc_auc = roc_auc_score(y_val[label], predictions)\n",
    "    print(f'AUC for {label}: {roc_auc}')\n",
    "\n",
    "    # Accumulate AUC\n",
    "    if label != 'non_toxic':\n",
    "        average_auc_toxic += roc_auc\n",
    "    else:\n",
    "        average_auc_non_toxic = roc_auc\n",
    "\n",
    "# Calculate average AUC\n",
    "average_auc_toxic /= len(target_columns)\n",
    "average_auc_non_toxic /= 1  # Only one non-toxic class\n",
    "\n",
    "print(f'Average AUC for Toxic: {average_auc_toxic}')\n",
    "print(f'Average AUC for Non-Toxic: {average_auc_non_toxic}')\n"
   ]
  },
  {
   "cell_type": "code",
   "execution_count": 23,
   "id": "6dee441a-2bc2-47be-9efb-ff27bea6df78",
   "metadata": {},
   "outputs": [
    {
     "data": {
      "image/png": "[encoded data removed]",
      "text/plain": [
       "<Figure size 1200x1000 with 4 Axes>"
      ]
     },
     "metadata": {},
     "output_type": "display_data"
    }
   ],
   "source": [
    "import matplotlib.pyplot as plt\n",
    "\n",
    "# Define the labels and corresponding metrics\n",
    "labels = ['toxic', 'severe_toxic', 'obscene', 'threat', 'insult', 'identity_hate', 'non_toxic']\n",
    "precision = [0.88, 0.745, 0.905, 0.69, 0.86, 0.745, 0.885]  \n",
    "recall = [0.77,0.66,0.76,0.575,0.71,0.56,0.77]     \n",
    "f1_score = [0.81,0.655,0.815,0.60,0.76,0.6,0.815]   \n",
    "auc = [0.7695, 0.6202, 0.7652, 0.5807, 0.7114, 0.5538, 0.7678]  \n",
    "\n",
    "fig, axs = plt.subplots(2, 2, figsize=(12, 10))\n",
    "\n",
    "axs[0, 0].barh(labels, precision, color='orange')\n",
    "axs[0, 0].set_title('Precision')\n",
    "\n",
    "axs[0, 1].barh(labels, recall, color='grey')\n",
    "axs[0, 1].set_title('Recall')\n",
    "\n",
    "axs[1, 0].barh(labels, f1_score, color='grey')\n",
    "axs[1, 0].set_title('F1-Score')\n",
    "\n",
    "axs[1, 1].barh(labels, auc, color='orange')\n",
    "axs[1, 1].set_title('AUC')\n",
    "\n",
    "plt.tight_layout()\n",
    "\n",
    "# Show plot\n",
    "plt.show()\n"
   ]
  },
  {
   "cell_type": "markdown",
   "id": "84f1c1a2-4318-4dde-a74f-8d010c2e812d",
   "metadata": {},
   "source": [
    "# NAIVE BAYES:\n"
   ]
  },
  {
   "cell_type": "code",
   "execution_count": 24,
   "id": "757139ee-0433-4b74-ac69-f8f2d94c0706",
   "metadata": {},
   "outputs": [],
   "source": [
    "from sklearn.naive_bayes import GaussianNB\n",
    "from sklearn.metrics import classification_report, roc_auc_score"
   ]
  },
  {
   "cell_type": "code",
   "execution_count": 25,
   "id": "871b563d-16b1-4f07-be08-67635d2f8cf1",
   "metadata": {},
   "outputs": [],
   "source": [
    "train_balanced['non_toxic'] = 1 - train_balanced[target_columns].max(axis=1)"
   ]
  },
  {
   "cell_type": "code",
   "execution_count": 26,
   "id": "b7fcc565-7d59-409a-b14d-bfe05022df3c",
   "metadata": {},
   "outputs": [],
   "source": [
    "nb_classifier = GaussianNB()\n",
    "average_auc_toxic = 0\n",
    "average_auc_non_toxic = 0"
   ]
  },
  {
   "cell_type": "code",
   "execution_count": 27,
   "id": "69a2f4e5-b237-4f6d-bb49-116b91f90985",
   "metadata": {},
   "outputs": [
    {
     "name": "stdout",
     "output_type": "stream",
     "text": [
      "Label = toxic\n",
      "              precision    recall  f1-score   support\n",
      "\n",
      "           0       0.96      0.86      0.90     28859\n",
      "           1       0.32      0.64      0.43      3056\n",
      "\n",
      "    accuracy                           0.84     31915\n",
      "   macro avg       0.64      0.75      0.67     31915\n",
      "weighted avg       0.90      0.84      0.86     31915\n",
      "\n",
      "AUC for toxic: 0.7465523211429319\n",
      "Label = severe_toxic\n",
      "              precision    recall  f1-score   support\n",
      "\n",
      "           0       1.00      0.90      0.95     31594\n",
      "           1       0.07      0.76      0.14       321\n",
      "\n",
      "    accuracy                           0.90     31915\n",
      "   macro avg       0.54      0.83      0.54     31915\n",
      "weighted avg       0.99      0.90      0.94     31915\n",
      "\n",
      "AUC for severe_toxic: 0.8331455438224498\n",
      "Label = obscene\n",
      "              precision    recall  f1-score   support\n",
      "\n",
      "           0       0.98      0.87      0.92     30200\n",
      "           1       0.23      0.66      0.34      1715\n",
      "\n",
      "    accuracy                           0.86     31915\n",
      "   macro avg       0.60      0.77      0.63     31915\n",
      "weighted avg       0.94      0.86      0.89     31915\n",
      "\n",
      "AUC for obscene: 0.767576747823065\n",
      "Label = threat\n",
      "              precision    recall  f1-score   support\n",
      "\n",
      "           0       1.00      0.90      0.95     31841\n",
      "           1       0.02      0.74      0.03        74\n",
      "\n",
      "    accuracy                           0.90     31915\n",
      "   macro avg       0.51      0.82      0.49     31915\n",
      "weighted avg       1.00      0.90      0.94     31915\n",
      "\n",
      "AUC for threat: 0.8216545979728668\n",
      "Label = insult\n",
      "              precision    recall  f1-score   support\n",
      "\n",
      "           0       0.98      0.88      0.93     30301\n",
      "           1       0.23      0.67      0.34      1614\n",
      "\n",
      "    accuracy                           0.87     31915\n",
      "   macro avg       0.60      0.78      0.63     31915\n",
      "weighted avg       0.94      0.87      0.90     31915\n",
      "\n",
      "AUC for insult: 0.7753111317194311\n",
      "Label = identity_hate\n",
      "              precision    recall  f1-score   support\n",
      "\n",
      "           0       1.00      0.90      0.94     31621\n",
      "           1       0.05      0.62      0.10       294\n",
      "\n",
      "    accuracy                           0.89     31915\n",
      "   macro avg       0.52      0.76      0.52     31915\n",
      "weighted avg       0.99      0.89      0.94     31915\n",
      "\n",
      "AUC for identity_hate: 0.7572167983603423\n",
      "Label = non_toxic\n",
      "              precision    recall  f1-score   support\n",
      "\n",
      "           0       0.33      0.63      0.44      3244\n",
      "           1       0.95      0.86      0.90     28671\n",
      "\n",
      "    accuracy                           0.83     31915\n",
      "   macro avg       0.64      0.74      0.67     31915\n",
      "weighted avg       0.89      0.83      0.86     31915\n",
      "\n",
      "AUC for non_toxic: 0.7448479617890468\n",
      "Average AUC for Toxic: 0.7835761901401811\n",
      "Average AUC for Non-Toxic: 0.7448479617890468\n"
     ]
    }
   ],
   "source": [
    "from sklearn.model_selection import train_test_split\n",
    "\n",
    "# Assuming you've already split x_train and train_balanced\n",
    "x_train, x_val, y_train, y_val = train_test_split(f_matrix_train, train_balanced, test_size=0.2, random_state=42)\n",
    "\n",
    "for label in target_columns + ['non_toxic']:\n",
    "    # Train model\n",
    "    nb_classifier.fit(x_train, y_train[label])\n",
    "    \n",
    "    # Make predictions\n",
    "    predictions = nb_classifier.predict(x_val)\n",
    "    \n",
    "    # Output classification report\n",
    "    print(f'Label = {label}')\n",
    "    print(classification_report(y_val[label], predictions))\n",
    "    \n",
    "    # Calculate and accumulate AUC\n",
    "    roc_auc = roc_auc_score(y_val[label], predictions)\n",
    "    print(f'AUC for {label}: {roc_auc}')\n",
    "    if label != 'non_toxic':\n",
    "        average_auc_toxic += roc_auc\n",
    "    else:\n",
    "        average_auc_non_toxic = roc_auc\n",
    "\n",
    "# Calculate average AUC\n",
    "average_auc_toxic /= len(target_columns)\n",
    "average_auc_non_toxic /= 1  # Since there's only one non-toxic class\n",
    "\n",
    "print(f'Average AUC for Toxic: {average_auc_toxic}')\n",
    "print(f'Average AUC for Non-Toxic: {average_auc_non_toxic}')\n"
   ]
  },
  {
   "cell_type": "code",
   "execution_count": 28,
   "id": "411ddf87-8b89-48cd-a721-034d15090648",
   "metadata": {},
   "outputs": [
    {
     "data": {
      "image/png": "[encoded data removed]",
      "text/plain": [
       "<Figure size 1200x1000 with 4 Axes>"
      ]
     },
     "metadata": {},
     "output_type": "display_data"
    }
   ],
   "source": [
    "import matplotlib.pyplot as plt\n",
    "\n",
    "# Define the labels and corresponding metrics\n",
    "labels = ['toxic', 'severe_toxic', 'obscene', 'threat', 'insult', 'identity_hate', 'non_toxic']\n",
    "precision = [0.64,0.535,0.605,0.51,0.605,0.525,0.645]  \n",
    "recall = [0.75,0.835,0.765,0.835,0.775,0.765,0.745]     \n",
    "f1_score = [0.67,0.545,0.63,0.495,0.635,0.52,0.67]   \n",
    "auc = [0.7473, 0.8345, 0.7668, 0.8363, 0.7754, 0.7666, 0.745]  \n",
    "\n",
    "fig, axs = plt.subplots(2, 2, figsize=(12, 10))\n",
    "\n",
    "axs[0, 0].barh(labels, precision, color='orange')\n",
    "axs[0, 0].set_title('Precision')\n",
    "\n",
    "axs[0, 1].barh(labels, recall, color='grey')\n",
    "axs[0, 1].set_title('Recall')\n",
    "\n",
    "axs[1, 0].barh(labels, f1_score, color='grey')\n",
    "axs[1, 0].set_title('F1-Score')\n",
    "\n",
    "axs[1, 1].barh(labels, auc, color='orange')\n",
    "axs[1, 1].set_title('AUC')\n",
    "\n",
    "plt.tight_layout()\n",
    "\n",
    "# Show plot\n",
    "plt.show()\n"
   ]
  },
  {
   "cell_type": "markdown",
   "id": "5aa325a4-cc01-44ec-9bd4-34ece39e870b",
   "metadata": {},
   "source": [
    "# AdaBoost Classifier"
   ]
  },
  {
   "cell_type": "code",
   "execution_count": 29,
   "id": "96d03ae7-5666-4599-98d7-3f12436e9c52",
   "metadata": {},
   "outputs": [
    {
     "name": "stdout",
     "output_type": "stream",
     "text": [
      "Label = toxic\n",
      "              precision    recall  f1-score   support\n",
      "\n",
      "           0       0.95      0.98      0.97     28859\n",
      "           1       0.73      0.56      0.63      3056\n",
      "\n",
      "    accuracy                           0.94     31915\n",
      "   macro avg       0.84      0.77      0.80     31915\n",
      "weighted avg       0.93      0.94      0.93     31915\n",
      "\n",
      "AUC for toxic: 0.7665621282589169\n",
      "Label = severe_toxic\n",
      "              precision    recall  f1-score   support\n",
      "\n",
      "           0       0.99      1.00      0.99     31594\n",
      "           1       0.41      0.28      0.33       321\n",
      "\n",
      "    accuracy                           0.99     31915\n",
      "   macro avg       0.70      0.64      0.66     31915\n",
      "weighted avg       0.99      0.99      0.99     31915\n",
      "\n",
      "AUC for severe_toxic: 0.6365877566169056\n",
      "Label = obscene\n",
      "              precision    recall  f1-score   support\n",
      "\n",
      "           0       0.97      0.99      0.98     30200\n",
      "           1       0.74      0.50      0.59      1715\n",
      "\n",
      "    accuracy                           0.96     31915\n",
      "   macro avg       0.86      0.74      0.79     31915\n",
      "weighted avg       0.96      0.96      0.96     31915\n",
      "\n",
      "AUC for obscene: 0.7426874288031202\n",
      "Label = threat\n",
      "              precision    recall  f1-score   support\n",
      "\n",
      "           0       1.00      1.00      1.00     31841\n",
      "           1       0.25      0.05      0.09        74\n",
      "\n",
      "    accuracy                           1.00     31915\n",
      "   macro avg       0.62      0.53      0.54     31915\n",
      "weighted avg       1.00      1.00      1.00     31915\n",
      "\n",
      "AUC for threat: 0.5268385907341969\n",
      "Label = insult\n",
      "              precision    recall  f1-score   support\n",
      "\n",
      "           0       0.97      0.99      0.98     30301\n",
      "           1       0.70      0.50      0.58      1614\n",
      "\n",
      "    accuracy                           0.96     31915\n",
      "   macro avg       0.83      0.74      0.78     31915\n",
      "weighted avg       0.96      0.96      0.96     31915\n",
      "\n",
      "AUC for insult: 0.7435555310458588\n",
      "Label = identity_hate\n",
      "              precision    recall  f1-score   support\n",
      "\n",
      "           0       0.99      1.00      1.00     31621\n",
      "           1       0.40      0.12      0.19       294\n",
      "\n",
      "    accuracy                           0.99     31915\n",
      "   macro avg       0.70      0.56      0.59     31915\n",
      "weighted avg       0.99      0.99      0.99     31915\n",
      "\n",
      "AUC for identity_hate: 0.5603706268567323\n",
      "Label = non_toxic\n",
      "              precision    recall  f1-score   support\n",
      "\n",
      "           0       0.74      0.54      0.63      3244\n",
      "           1       0.95      0.98      0.96     28671\n",
      "\n",
      "    accuracy                           0.93     31915\n",
      "   macro avg       0.84      0.76      0.79     31915\n",
      "weighted avg       0.93      0.93      0.93     31915\n",
      "\n",
      "AUC for non_toxic: 0.7601494565176489\n",
      "Average AUC for Toxic: 0.6627670103859552\n",
      "Average AUC for Non-Toxic: 0.7601494565176489\n"
     ]
    }
   ],
   "source": [
    "from sklearn.ensemble import AdaBoostClassifier\n",
    "from sklearn.tree import DecisionTreeClassifier\n",
    "from sklearn.metrics import classification_report, roc_auc_score\n",
    "from sklearn.model_selection import train_test_split\n",
    "import numpy as np\n",
    "\n",
    "# Sample labels for the example\n",
    "\n",
    "target_columns = ['toxic', 'severe_toxic', 'obscene', 'threat', 'insult', 'identity_hate']\n",
    "train['non_toxic'] = 1 - train[target_columns].max(axis=1)  # Define non-toxic as the absence of all toxic behaviors\n",
    "\n",
    "# Split the dataset\n",
    "x_train, x_val, y_train, y_val = train_test_split(f_matrix_train, train, test_size=0.2, random_state=42)\n",
    "\n",
    "# Initialize AdaBoost with a simpler and faster base estimator, fewer estimators, and specify the algorithm explicitly\n",
    "base_estimator = DecisionTreeClassifier(max_depth=1)  # Using a decision stump\n",
    "ada_classifier = AdaBoostClassifier(\n",
    "    estimator=base_estimator, \n",
    "    n_estimators=50, \n",
    "    random_state=42,\n",
    "    algorithm='SAMME'  # Explicitly using SAMME algorithm to avoid the deprecation warning\n",
    ")\n",
    "\n",
    "# Dictionary to store AUC scores for averaging later\n",
    "auc_scores = {}\n",
    "\n",
    "# Fit AdaBoost and evaluate for each label including 'non_toxic'\n",
    "for label in target_columns + ['non_toxic']:\n",
    "    ada_classifier.fit(x_train, y_train[label])\n",
    "    predictions = ada_classifier.predict(x_val)\n",
    "    \n",
    "    # Display classification report\n",
    "    print(f'Label = {label}')\n",
    "    print(classification_report(y_val[label], predictions))\n",
    "    \n",
    "    # Calculate and print AUC\n",
    "    roc_auc = roc_auc_score(y_val[label], predictions)\n",
    "    print(f'AUC for {label}: {roc_auc}')\n",
    "    auc_scores[label] = roc_auc\n",
    "\n",
    "# Calculate average AUC for toxic and non-toxic classes\n",
    "average_auc_toxic = np.mean([auc_scores[label] for label in target_columns])\n",
    "average_auc_non_toxic = auc_scores['non_toxic']\n",
    "\n",
    "print(f'Average AUC for Toxic: {average_auc_toxic}')\n",
    "print(f'Average AUC for Non-Toxic: {average_auc_non_toxic}')\n"
   ]
  },
  {
   "cell_type": "code",
   "execution_count": null,
   "id": "dcf0493b-b02a-44d3-b49d-85229f99275e",
   "metadata": {},
   "outputs": [],
   "source": []
  }
 ],
 "metadata": {
  "kernelspec": {
   "display_name": "Python 3 (ipykernel)",
   "language": "python",
   "name": "python3"
  },
  "language_info": {
   "codemirror_mode": {
    "name": "ipython",
    "version": 3
   },
   "file_extension": ".py",
   "mimetype": "text/x-python",
   "name": "python",
   "nbconvert_exporter": "python",
   "pygments_lexer": "ipython3",
   "version": "3.11.7"
  }
 },
 "nbformat": 4,
 "nbformat_minor": 5
}
